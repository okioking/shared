{
 "cells": [
  {
   "cell_type": "markdown",
   "metadata": {},
   "source": [
    "Latihan Soal"
   ]
  },
  {
   "cell_type": "markdown",
   "metadata": {},
   "source": [
    "1. Buatlah syntax untuk mencetak kalimat \n",
    "\"Nama Saya xxxxxx\" dengan xxxxx adalah nama anda yang merupakan anggota dari list string dibawah ini\n",
    "abjad = ['qwertyuiopasdfghjklzxcvbnm']"
   ]
  },
  {
   "cell_type": "code",
   "execution_count": 39,
   "metadata": {},
   "outputs": [
    {
     "name": "stdout",
     "output_type": "stream",
     "text": [
      "Nama Saya  r a n i\n"
     ]
    }
   ],
   "source": [
    "# Jawab :\n",
    "abjad = 'qwertyuiopasdfghjklzxcvbnm'\n",
    "print ('Nama Saya ',abjad[3],abjad[10],abjad[-2],abjad[7])"
   ]
  },
  {
   "cell_type": "markdown",
   "metadata": {},
   "source": [
    "2. Buatlah list beranggotakan 12 angka dengan salah satu anggotanya merupakan dua angka terakhir NPM anda, lalu lakukan hal berikut \n",
    "(a)Hapus dua anggota yang bernilai ganjil. \n",
    "(b)Ganti salah satu angka yang bernilai genap dengan nilai 5 kali dari angka tersebut.\n",
    "(c)Lakukan operasi penjumlahan antara anggota list yang merupakan NPM anda dan angka pada bagian (b).\n",
    "(d)Print list beserta jawaban (c)."
   ]
  },
  {
   "cell_type": "code",
   "execution_count": 42,
   "metadata": {},
   "outputs": [
    {
     "data": {
      "text/plain": [
       "[2, 4, 5, 1, 3, 6, 9, 8, 6, 68, 23, 47]"
      ]
     },
     "execution_count": 42,
     "metadata": {},
     "output_type": "execute_result"
    }
   ],
   "source": [
    "# Jawab :\n",
    "list = [2,4,5,1,3,6,9,8,6,68,23,47]\n",
    "list"
   ]
  },
  {
   "cell_type": "code",
   "execution_count": 44,
   "metadata": {},
   "outputs": [
    {
     "data": {
      "text/plain": [
       "[2, 4, 5, 1, 3, 6, 9, 8, 6, 68]"
      ]
     },
     "execution_count": 44,
     "metadata": {},
     "output_type": "execute_result"
    }
   ],
   "source": [
    "# a\n",
    "del list[10:]\n",
    "list"
   ]
  },
  {
   "cell_type": "code",
   "execution_count": 45,
   "metadata": {},
   "outputs": [
    {
     "data": {
      "text/plain": [
       "[2, 20, 5, 1, 3, 6, 9, 8, 6, 68]"
      ]
     },
     "execution_count": 45,
     "metadata": {},
     "output_type": "execute_result"
    }
   ],
   "source": [
    "# b\n",
    "# b\n",
    "list[1]=list[1]*5\n",
    "list"
   ]
  },
  {
   "cell_type": "code",
   "execution_count": 46,
   "metadata": {},
   "outputs": [
    {
     "data": {
      "text/plain": [
       "88"
      ]
     },
     "execution_count": 46,
     "metadata": {},
     "output_type": "execute_result"
    }
   ],
   "source": [
    "# c\n",
    "c = list[9]+list[1]\n",
    "c"
   ]
  },
  {
   "cell_type": "code",
   "execution_count": 48,
   "metadata": {},
   "outputs": [
    {
     "name": "stdout",
     "output_type": "stream",
     "text": [
      "List saya adalah [2, 20, 5, 1, 3, 6, 9, 8, 6, 68] \n",
      "dengan jawaban c adalah 88\n"
     ]
    }
   ],
   "source": [
    "# d\n",
    "print(\"List saya adalah\",list,'\\ndengan jawaban c adalah',c)"
   ]
  },
  {
   "cell_type": "markdown",
   "metadata": {},
   "source": [
    "Tugas"
   ]
  },
  {
   "cell_type": "markdown",
   "metadata": {},
   "source": [
    "1. Buatlah matriks berukuran 4x4 yang salah satu elemennya merupakan dua angka terakhir dari NPM anda\n",
    "(Catatan: Elemen lainnya merupakan angka acak dengan range 1 hingga 9)"
   ]
  },
  {
   "cell_type": "code",
   "execution_count": 22,
   "metadata": {},
   "outputs": [],
   "source": [
    "my_mat = [[2,5,68,5],\n",
    "         [9,6,3,3],\n",
    "         [4,7,1,6],\n",
    "         [5,9,3,7]]"
   ]
  },
  {
   "cell_type": "markdown",
   "metadata": {},
   "source": [
    "2. Buatlah sub matriks berukuran 2x4 dari matriks nomor 1 dengan baris pertama berisi bilangan ganjil dan baris kedua berisi bilangan genap (Catatan: nilai elemen-elemen sub matriks berasal dari index yang berbeda)"
   ]
  },
  {
   "cell_type": "code",
   "execution_count": 27,
   "metadata": {},
   "outputs": [
    {
     "data": {
      "text/plain": [
       "[[5, 7, 3, 9], [68, 6, 6, 4]]"
      ]
     },
     "execution_count": 27,
     "metadata": {},
     "output_type": "execute_result"
    }
   ],
   "source": [
    "sub_mat = [[my_mat[0][3],my_mat[3][3],my_mat[1][3],my_mat[3][1]],\n",
    "          [my_mat[0][2],my_mat[1][1],my_mat[2][3],my_mat[2][0]]\n",
    "          ]\n",
    "sub_mat           "
   ]
  },
  {
   "cell_type": "markdown",
   "metadata": {},
   "source": [
    "3. Lakukanlah instruksi dibawah ini \n",
    "(a) Buatlah dictionary yang berisi harga-harga material sebagai berikut: Pasir 235.000/m3, Semen 70.000/50kg, Batu Bata Merah 754/buah.\n",
    "(b) Apabila diketahui Bapak Roy membeli pasir sebanyak 2 m3, semen 150 kg, dan batu bata merah 2750 buah, buatlah syntax sederhana yang dapat mencetak total pembelian Bapak Roy    "
   ]
  },
  {
   "cell_type": "code",
   "execution_count": 53,
   "metadata": {},
   "outputs": [
    {
     "name": "stdout",
     "output_type": "stream",
     "text": [
      "Total pembelian Bapak Roy adalah Rp 2753500\n"
     ]
    }
   ],
   "source": [
    "material = {'Pasir' : 235000,\n",
    "           'Semen': 70000,\n",
    "           'Batu Bata Merah' : 754}\n",
    "beliPasir = material['Pasir']*2\n",
    "beliSemen = material['Semen']*3\n",
    "beliBBM = material['Batu Bata Merah']*2750\n",
    "total = beliPasir + beliSemen + beliBBM\n",
    "print('Total pembelian Bapak Roy adalah','Rp',total)"
   ]
  }
 ],
 "metadata": {
  "kernelspec": {
   "display_name": "Python 3",
   "language": "python",
   "name": "python3"
  },
  "language_info": {
   "codemirror_mode": {
    "name": "ipython",
    "version": 3
   },
   "file_extension": ".py",
   "mimetype": "text/x-python",
   "name": "python",
   "nbconvert_exporter": "python",
   "pygments_lexer": "ipython3",
   "version": "3.7.3"
  }
 },
 "nbformat": 4,
 "nbformat_minor": 2
}
